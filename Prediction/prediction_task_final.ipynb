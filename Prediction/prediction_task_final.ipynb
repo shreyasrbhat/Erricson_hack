{
 "cells": [
  {
   "cell_type": "markdown",
   "metadata": {
    "colab_type": "text",
    "id": "L84vT3spQjlA"
   },
   "source": [
    "**Aim** : To predict material type to be published based on available features."
   ]
  },
  {
   "cell_type": "markdown",
   "metadata": {
    "colab_type": "text",
    "id": "hHpRqTXaYPUk"
   },
   "source": [
    "Importing necessary packages"
   ]
  },
  {
   "cell_type": "code",
   "execution_count": 2,
   "metadata": {
    "colab": {},
    "colab_type": "code",
    "id": "8MxWC9f6hSSf"
   },
   "outputs": [],
   "source": [
    "import pandas as pd\n",
    "import seaborn as sns\n",
    "from sklearn.ensemble import RandomForestClassifier\n",
    "from sklearn.model_selection import train_test_split\n",
    "from sklearn.metrics import f1_score, classification_report\n",
    "from sklearn.svm import SVC, LinearSVC\n",
    "from sklearn.linear_model import LogisticRegression\n",
    "import warnings\n",
    "warnings.filterwarnings('ignore')\n",
    "from sklearn.feature_extraction.text import CountVectorizer, TfidfVectorizer\n",
    "from sklearn.naive_bayes import MultinomialNB\n",
    "#from utils import tokenizer\n",
    "from nltk.classify import NaiveBayesClassifier\n",
    "from nltk.metrics import ConfusionMatrix\n",
    "from functools import reduce\n",
    "from sklearn.feature_selection import chi2\n",
    "from sklearn.model_selection import cross_val_score, cross_validate\n",
    "import numpy as np\n",
    "import matplotlib.pyplot as plt"
   ]
  },
  {
   "cell_type": "markdown",
   "metadata": {
    "colab_type": "text",
    "id": "ujYnEcvfYbWL"
   },
   "source": [
    "Packages specific to text preprocessing"
   ]
  },
  {
   "cell_type": "code",
   "execution_count": 3,
   "metadata": {
    "colab": {
     "base_uri": "https://localhost:8080/",
     "height": 119
    },
    "colab_type": "code",
    "id": "-Y1WZdcihSSk",
    "outputId": "a0b02770-9594-413e-962f-3dd6eea628d2"
   },
   "outputs": [
    {
     "name": "stdout",
     "output_type": "stream",
     "text": [
      "[nltk_data] Downloading package stopwords to\n",
      "[nltk_data]     /home/shreyasrbhat/nltk_data...\n",
      "[nltk_data]   Package stopwords is already up-to-date!\n",
      "[nltk_data] Downloading package punkt to\n",
      "[nltk_data]     /home/shreyasrbhat/nltk_data...\n",
      "[nltk_data]   Package punkt is already up-to-date!\n",
      "[nltk_data] Downloading package wordnet to\n",
      "[nltk_data]     /home/shreyasrbhat/nltk_data...\n",
      "[nltk_data]   Package wordnet is already up-to-date!\n"
     ]
    }
   ],
   "source": [
    "from nltk.tokenize import word_tokenize\n",
    "from nltk.corpus import stopwords\n",
    "import re\n",
    "from nltk.stem import PorterStemmer \n",
    "from nltk.stem import WordNetLemmatizer\n",
    "import nltk\n",
    "nltk.download('stopwords')\n",
    "nltk.download('punkt')\n",
    "nltk.download('wordnet')\n",
    "\n",
    "\n",
    "def tokenizer(txt):\n",
    "   ## returns tokenized corpus without stopwords and special characters\n",
    "    \n",
    "    ##parameter: \n",
    "    ##txt: string\n",
    "    ps = PorterStemmer()\n",
    "    lem = WordNetLemmatizer()\n",
    "    stop_words = set(stopwords.words('english')) \n",
    "    txt = re.sub('[^A-Za-z\\s*]', '', txt.lower())\n",
    "    tokens = list(filter(lambda x: x not in stop_words and len(x) > 2, word_tokenize(txt)))\n",
    "    return list([lem.lemmatize(token) for token in tokens]) "
   ]
  },
  {
   "cell_type": "markdown",
   "metadata": {
    "colab_type": "text",
    "id": "aeMXqt5pY9WC"
   },
   "source": [
    "**Defining data path**"
   ]
  },
  {
   "cell_type": "code",
   "execution_count": 4,
   "metadata": {
    "colab": {},
    "colab_type": "code",
    "id": "D_xunA2rhSSo"
   },
   "outputs": [],
   "source": [
    "train_path = 'Predictive_Data/train_file.csv'\n",
    "test_path = 'Predictive_Data/test_file.csv'"
   ]
  },
  {
   "cell_type": "markdown",
   "metadata": {
    "colab_type": "text",
    "id": "GBa3AVzkZKo1"
   },
   "source": [
    "**Reading the data and inference**\n",
    "-  The checkout type, checkout year amd month has same entries for all the records hence dosent contribute in learning patterns for prediction.\n",
    "- The columns creator, publisher and publication year have aroud 80% null values, so no point in interpolation and thus can be neglected.\n",
    "-  A large number of checkouts "
   ]
  },
  {
   "cell_type": "code",
   "execution_count": 5,
   "metadata": {
    "colab": {
     "base_uri": "https://localhost:8080/",
     "height": 1003
    },
    "colab_type": "code",
    "id": "JJsYflQShSSr",
    "outputId": "1c0a45c0-c88b-4956-9efb-5fe171a97039"
   },
   "outputs": [
    {
     "name": "stdout",
     "output_type": "stream",
     "text": [
      "(31653, 12)\n",
      "<class 'pandas.core.frame.DataFrame'>\n",
      "RangeIndex: 31653 entries, 0 to 31652\n",
      "Data columns (total 12 columns):\n",
      "ID                 31653 non-null int64\n",
      "UsageClass         31653 non-null object\n",
      "CheckoutType       31653 non-null object\n",
      "CheckoutYear       31653 non-null int64\n",
      "CheckoutMonth      31653 non-null int64\n",
      "Checkouts          31653 non-null int64\n",
      "Title              31653 non-null object\n",
      "Creator            8516 non-null object\n",
      "Subjects           29890 non-null object\n",
      "Publisher          9737 non-null object\n",
      "PublicationYear    9722 non-null object\n",
      "MaterialType       31653 non-null object\n",
      "dtypes: int64(4), object(8)\n",
      "memory usage: 2.9+ MB\n",
      "None\n",
      "                 ID  CheckoutYear  CheckoutMonth     Checkouts\n",
      "count  31653.000000       31653.0        31653.0  31653.000000\n",
      "mean   15827.000000        2005.0            4.0      2.117430\n",
      "std     9137.578372           0.0            0.0      2.629428\n",
      "min        1.000000        2005.0            4.0      1.000000\n",
      "25%     7914.000000        2005.0            4.0      1.000000\n",
      "50%    15827.000000        2005.0            4.0      1.000000\n",
      "75%    23740.000000        2005.0            4.0      2.000000\n",
      "max    31653.000000        2005.0            4.0     85.000000\n",
      "{'BOOK': 0, 'CR': 1, 'MIXED': 2, 'MUSIC': 3, 'SOUNDCASS': 4, 'SOUNDDISC': 5, 'VIDEOCASS': 6, 'VIDEODISC': 7}\n",
      "{0: 'BOOK', 1: 'CR', 2: 'MIXED', 3: 'MUSIC', 4: 'SOUNDCASS', 5: 'SOUNDDISC', 6: 'VIDEOCASS', 7: 'VIDEODISC'}\n",
      "\n",
      "\n",
      "Physical    31653\n",
      "Name: UsageClass, dtype: int64\n",
      "2005    31653\n",
      "Name: CheckoutYear, dtype: int64\n",
      "4    31653\n",
      "Name: CheckoutMonth, dtype: int64\n"
     ]
    },
    {
     "data": {
      "image/png": "[encoded data removed]",
      "text/plain": [
       "<Figure size 432x288 with 1 Axes>"
      ]
     },
     "metadata": {
      "needs_background": "light"
     },
     "output_type": "display_data"
    }
   ],
   "source": [
    "df = pd.read_csv(train_path)\n",
    "print(df.shape)\n",
    "print(df.info())\n",
    "print(df.describe())\n",
    "df[\"Publisher\"] = pd.Categorical(df[\"Publisher\"])\n",
    "target = \"MaterialType\"\n",
    "features = [\"Subjects\", \"Checkouts\"]\n",
    "\n",
    "df[\"Subjects\"] = pd.Categorical(df[\"Subjects\"])\n",
    "df[\"MaterialType\"] = pd.Categorical(df[\"MaterialType\"])\n",
    "id_to_sub = dict(enumerate(df['Subjects'].cat.categories ) )\n",
    "sub_to_id = {value:key for key, value in id_to_sub.items()}\n",
    "id_to_mat = dict(enumerate(df['MaterialType'].cat.categories ) )\n",
    "mat_to_id = {value:key for key, value in id_to_mat.items()}\n",
    "df[\"MaterialType\"] = df[\"MaterialType\"].map(mat_to_id)\n",
    "df_train, df_test = train_test_split(df, test_size = 0.2, stratify = df[target], random_state = 51)\n",
    "print(mat_to_id)\n",
    "print(id_to_mat)\n",
    "print('\\n')\n",
    "sns.heatmap(df.isnull(), cbar = False)\n",
    "print(df.UsageClass.value_counts())\n",
    "print(df.CheckoutYear.value_counts())\n",
    "print(df.CheckoutMonth.value_counts())"
   ]
  },
  {
   "cell_type": "markdown",
   "metadata": {
    "colab_type": "text",
    "id": "e9CcWoWmgYTd"
   },
   "source": [
    "- 90% of checkout are for books, hence adding this feature would overfit the model.\n",
    "- The only feature left is the subject description which has some potential information on material type."
   ]
  },
  {
   "cell_type": "code",
   "execution_count": 74,
   "metadata": {
    "colab": {
     "base_uri": "https://localhost:8080/",
     "height": 312
    },
    "colab_type": "code",
    "id": "1c2VJ_UEgPU9",
    "outputId": "dcf7adfb-1d5c-4b46-bfac-32d3de7c25a1"
   },
   "outputs": [
    {
     "data": {
      "text/plain": [
       "Text(0.5, 1.0, 'Checkout based on MaterialType')"
      ]
     },
     "execution_count": 74,
     "metadata": {
      "tags": []
     },
     "output_type": "execute_result"
    },
    {
     "data": {
      "image/png": "[encoded data removed]",
      "text/plain": [
       "<Figure size 432x288 with 1 Axes>"
      ]
     },
     "metadata": {
      "tags": []
     },
     "output_type": "display_data"
    }
   ],
   "source": [
    "sns.barplot(\"MaterialType\", \"Checkouts\", data = df, estimator = sum).set_title(\"Checkout based on MaterialType\")"
   ]
  },
  {
   "cell_type": "markdown",
   "metadata": {
    "colab_type": "text",
    "id": "dewl7ddKhbuk"
   },
   "source": [
    "### Removing records for null entries based the the Subject"
   ]
  },
  {
   "cell_type": "code",
   "execution_count": 6,
   "metadata": {
    "colab": {},
    "colab_type": "code",
    "id": "RDBex9NBhSS1"
   },
   "outputs": [],
   "source": [
    "df_train = df_train.dropna(subset=[\"Subjects\"])"
   ]
  },
  {
   "cell_type": "markdown",
   "metadata": {
    "colab_type": "text",
    "id": "HLKL3cF4h8VK"
   },
   "source": [
    "### Check if the words in subjects has some kind of correlation with the MaterialType using the chi2 test.\n",
    "\n",
    "-  On looking at the unigrams except for the books material others have words in the subject that speaks about the material type"
   ]
  },
  {
   "cell_type": "code",
   "execution_count": 0,
   "metadata": {
    "colab": {},
    "colab_type": "code",
    "id": "0P4rLNmfhSS4"
   },
   "outputs": [],
   "source": [
    "# tfidf = TfidfVectorizer(sublinear_tf=True, tokenizer = tokenizer, min_df=2, max_df = 0.9)\n",
    "# feature_vec= tfidf.fit_transform(df_train[\"Subjects\"])\n",
    "cv = CountVectorizer(tokenizer = tokenizer, min_df=1, max_df=0.9)\n",
    "feature_vec = cv.fit_transform(df_train[\"Subjects\"].values)"
   ]
  },
  {
   "cell_type": "code",
   "execution_count": 79,
   "metadata": {
    "colab": {
     "base_uri": "https://localhost:8080/",
     "height": 326
    },
    "colab_type": "code",
    "id": "C20eDuZ3hSS8",
    "outputId": "b8c7b078-67d2-43bc-a89b-a655ca7d0782"
   },
   "outputs": [
    {
     "name": "stdout",
     "output_type": "stream",
     "text": [
      "Most correlated unigrams:\n",
      "# 'BOOK':\n",
      "  song, juvenile, jazz, popular, rock, literature, fiction, feature, hearing, impaired, video, recording, drama, film, music\n",
      "# 'CR':\n",
      "  lagoon, zion, disneyland, crete, merit, qualifying, scholarship, communal, settlement, collective, cost, estimate, guidebook, directory, periodical\n",
      "# 'MIXED':\n",
      "  teaching, caribbean, stravinsky, igor, kindergarten, device, sviashchennaia, idea, vesna, ermitazh, reef, coral, software, multimedia, interactive\n",
      "# 'MUSIC':\n",
      "  bass, instruction, guitar, excerpt, sonata, unspecified, piece, arranged, method, part, vocal, edition, simplified, piano, score\n",
      "# 'SOUNDCASS':\n",
      "  film, yum, serbia, english, juvenile, galveston, cantonese, england, fictitious, character, language, sound, mystery, speaker, fiction\n",
      "# 'SOUNDDISC':\n",
      "  film, juvenile, string, literature, folk, piano, instrumental, sound, orchestra, fiction, song, jazz, rock, popular, music\n",
      "# 'VIDEOCASS':\n",
      "  travel, music, description, literature, childrens, comedy, animated, fiction, drama, recording, feature, hearing, impaired, video, film\n",
      "# 'VIDEODISC':\n",
      "  fiction, anime, childrens, animated, comedy, program, series, television, recording, feature, hearing, impaired, video, film, drama\n"
     ]
    }
   ],
   "source": [
    "N = 15\n",
    "print(\"Most correlated unigrams:\")\n",
    "for material, mat_id in mat_to_id.items():\n",
    "  features_chi2 = chi2(feature_vec, df_train[\"MaterialType\"].values == mat_id)\n",
    "  indices = np.argsort(features_chi2[0])\n",
    "  feature_names = np.array(cv.get_feature_names())[indices]\n",
    "  unigrams = [v for v in feature_names if len(v.split(' ')) == 1]\n",
    "  print(\"# '{}':\".format(material))\n",
    "  print(\"  {}\".format(', '.join(unigrams[-N:])))"
   ]
  },
  {
   "cell_type": "markdown",
   "metadata": {
    "colab_type": "text",
    "id": "WOQIiwOdoD9u"
   },
   "source": [
    "- As a first step of model build, generate tfidf vectors from the subject as a feature to the model.\n",
    "- Select the top hundred words as per their  over all tf-idf values "
   ]
  },
  {
   "cell_type": "code",
   "execution_count": null,
   "metadata": {
    "colab": {},
    "colab_type": "code",
    "id": "YqPuwQ1jD-89"
   },
   "outputs": [],
   "source": [
    "tfidf = TfidfVectorizer(sublinear_tf=True, tokenizer = tokenizer, min_df=2, max_df = 0.7)\n",
    "feature_vec= tfidf.fit_transform(df_train[\"Subjects\"])\n",
    "\n",
    "n = 100\n",
    "top_n_words = np.array(tfidf.get_feature_names())\n",
    "feature_index = [tfidf.get_feature_names().index(word) for word in list(top_n_words)]\n",
    "features = np.array(feature_vec.toarray()[:, list(feature_index)])"
   ]
  },
  {
   "cell_type": "code",
   "execution_count": null,
   "metadata": {
    "colab": {},
    "colab_type": "code",
    "id": "LfAiETnao1gh"
   },
   "outputs": [],
   "source": [
    "models = [\n",
    "    RandomForestClassifier(n_estimators=50, max_depth=10, random_state=0),\n",
    "    SVC(),\n",
    "    LinearSVC(),\n",
    "    LogisticRegression(random_state=0),\n",
    "]\n",
    "\n",
    "scoring = {\n",
    "           'f1_micro': 'f1_micro',\n",
    "           'f1_macro': 'f1_macro',\n",
    "           'weighted': 'f1_weighted'} \n",
    "\n",
    "\n",
    "CV = 5\n",
    "cv_df = pd.DataFrame(index=range(CV * len(models)))\n",
    "wanted_metrics = [\"test_f1_micro\", \"test_f1_macro\", \"test_weighted\"]\n",
    "entries = []\n",
    "for model in models:\n",
    "    model_name = model.__class__.__name__\n",
    "    accuracies = cross_validate(model, features[:, :50], list(df_train[target].values), scoring=scoring, cv=CV)\n",
    "    for metric, accuracy in dict(zip(wanted_metrics, [accuracies[k] for k in wanted_metrics])).items():\n",
    "        for fold_idx, score in enumerate(accuracy):\n",
    "            entries.append((model_name, fold_idx, metric, score))\n",
    "cv_df = pd.DataFrame(entries, columns=['model_name', 'fold_idx', 'metric', 'score'])\n",
    "plt.figure(figsize=(10,5))\n",
    "for i,metric in enumerate(wanted_metrics):\n",
    "    plt.subplot(1,len(wanted_metrics),i+1)\n",
    "    sns.boxplot(x='model_name', y='score', data=cv_df[cv_df[\"metric\"] == metric])\n",
    "    sns.stripplot(x='model_name', y='score', data=cv_df[cv_df[\"metric\"] == metric], \n",
    "              size=8, jitter=True, edgecolor=\"gray\", linewidth=2).set_title(metric)\n",
    "plt.tight_layout()\n",
    "plt.show()"
   ]
  },
  {
   "cell_type": "markdown",
   "metadata": {
    "colab_type": "text",
    "id": "Mx__cMXdvGBE"
   },
   "source": [
    "**Applying Random Forest**"
   ]
  },
  {
   "cell_type": "code",
   "execution_count": 17,
   "metadata": {
    "colab": {
     "base_uri": "https://localhost:8080/",
     "height": 289
    },
    "colab_type": "code",
    "id": "s68i030vD-0n",
    "outputId": "88ac7521-656b-4470-d0a1-fe8f61059d7d"
   },
   "outputs": [
    {
     "name": "stdout",
     "output_type": "stream",
     "text": [
      "  |    0    1    2    3    4    5    6    7 |\n",
      "--+-----------------------------------------+\n",
      "0 |<4295>   3    .    .    .   27   17    . |\n",
      "1 |   17   <1>   .    .    .    .    1    . |\n",
      "2 |   63    .   <5>   .    .    1    .    . |\n",
      "3 |    3    .    .   <7>   .   22    .    1 |\n",
      "4 |  188    .    .    .   <.>  13    3    . |\n",
      "5 |  113    .    .    .    . <714>   2    1 |\n",
      "6 |  181    .    .    .    .   12 <350>   7 |\n",
      "7 |   46    .    .    .    .   16  193  <29>|\n",
      "--+-----------------------------------------+\n",
      "(row = reference; col = test)\n",
      "\n",
      "f1_micro:  0.8531037750750277\n",
      "f1_macro:  0.3977125000284535\n",
      "f1_weighted:  0.8176663614204647\n"
     ]
    }
   ],
   "source": [
    "model_1 = RandomForestClassifier(n_estimators=100, min_samples_leaf=5)\n",
    "model_1.fit(features, df_train[target])\n",
    "\n",
    "df_test1= df_test.dropna(subset=[\"Subjects\"])\n",
    "df_test[\"prediction\"] = 0\n",
    "tfidf_vec_test = tfidf.transform(df_test1[\"Subjects\"].values)\n",
    "test_features = np.array(tfidf_vec_test.toarray()[:, list(feature_index)])\n",
    "predictions = model_1.predict(test_features)\n",
    "df_test.loc[df_test1.index, 'prediction'] = predictions\n",
    "print(ConfusionMatrix(list(df_test[target]), list(df_test[\"prediction\"])))\n",
    "print(\"f1_micro: \",f1_score(df_test[target].values, df_test[\"prediction\"].values, average='micro'))\n",
    "print(\"f1_macro: \", f1_score(df_test[target].values, df_test[\"prediction\"].values, average='macro'))\n",
    "print(\"f1_weighted: \", f1_score(df_test[target].values, df_test[\"prediction\"].values, average='weighted'))"
   ]
  },
  {
   "cell_type": "markdown",
   "metadata": {
    "colab_type": "text",
    "id": "ieAg8AYYvmfG"
   },
   "source": [
    "**Applying SVM**"
   ]
  },
  {
   "cell_type": "code",
   "execution_count": 0,
   "metadata": {
    "colab": {},
    "colab_type": "code",
    "id": "XNXhn5ucD-t4"
   },
   "outputs": [],
   "source": [
    "model_2 = SVC()\n",
    "model_2.fit(features, df_train[target])\n",
    "\n",
    "df_test1= df_test.dropna(subset=[\"Subjects\"])\n",
    "df_test[\"prediction\"] = 0\n",
    "predictions = model_2.predict(test_features)\n",
    "df_test.loc[df_test1.index, 'prediction'] = predictions\n",
    "print(ConfusionMatrix(list(df_test[target]), list(df_test[\"prediction\"])))\n",
    "print(\"f1_micro: \",f1_score(df_test[target].values, df_test[\"prediction\"].values, average='micro'))\n",
    "print(\"f1_macro: \", f1_score(df_test[target].values, df_test[\"prediction\"].values, average='macro'))"
   ]
  },
  {
   "cell_type": "markdown",
   "metadata": {
    "colab_type": "text",
    "id": "JlAIrMVkwPJQ"
   },
   "source": [
    "Apply NLTK naive bayes\n",
    "\n",
    "## Approach\n",
    "- Generate a universal count vectorizer\n",
    "- Generate individual count vectorizer for each categories of Material type.\n",
    "-  Select top words for each categories based on using their individual count vector.\n",
    "- Remvove the words that are common along the each categories.\n",
    "- Perform union of all the words across each category and use them as features for naive bayes classification\n"
   ]
  },
  {
   "cell_type": "code",
   "execution_count": 0,
   "metadata": {
    "colab": {},
    "colab_type": "code",
    "id": "GnGSdNljhSTK"
   },
   "outputs": [],
   "source": [
    "cv = CountVectorizer(tokenizer = tokenizer, min_df=1, max_df=0.9)\n",
    "count_vec = cv.fit_transform(df_train[\"Subjects\"].values)"
   ]
  },
  {
   "cell_type": "code",
   "execution_count": 0,
   "metadata": {
    "colab": {},
    "colab_type": "code",
    "id": "Iqhjid_ZhSTN"
   },
   "outputs": [],
   "source": [
    "cv0 = CountVectorizer(tokenizer = tokenizer, min_df=5, max_df = 0.8)\n",
    "count_vec0 = cv0.fit_transform(df_train[df_train[target] == 0][\"Subjects\"])\n",
    "\n",
    "cv1 = CountVectorizer(tokenizer = tokenizer, min_df=1, max_df = 0.95)\n",
    "count_vec1 = cv1.fit_transform(df_train[df_train[target] == 1][\"Subjects\"])\n",
    "\n",
    "cv2 = CountVectorizer(tokenizer = tokenizer, min_df=2, max_df = 0.95)\n",
    "count_vec2 = cv2.fit_transform(df_train[df_train[target] == 2][\"Subjects\"])\n",
    "\n",
    "cv3 = CountVectorizer(tokenizer = tokenizer, min_df=2, max_df = 0.95)\n",
    "count_vec3 = cv3.fit_transform(df_train[df_train[target] == 3][\"Subjects\"])\n",
    "\n",
    "cv4 = CountVectorizer(tokenizer = tokenizer, min_df=2, max_df = 0.95)\n",
    "count_vec4 =  cv4.fit_transform(df_train[df_train[target] == 4][\"Subjects\"])\n",
    "\n",
    "cv5 = CountVectorizer(tokenizer = tokenizer, min_df=2, max_df = 0.95)\n",
    "count_vec5 = cv5.fit_transform(df_train[df_train[target] == 5][\"Subjects\"])\n",
    "\n",
    "cv6 = CountVectorizer(tokenizer = tokenizer, min_df=2, max_df = 0.95)\n",
    "count_vec6 = cv6.fit_transform(df_train[df_train[target] == 6][\"Subjects\"])\n",
    "\n",
    "cv7 = CountVectorizer(tokenizer = tokenizer, min_df=2, max_df = 0.95)\n",
    "count_vec7 = cv7.fit_transform(df_train[df_train[target] == 7][\"Subjects\"])"
   ]
  },
  {
   "cell_type": "code",
   "execution_count": 0,
   "metadata": {
    "colab": {},
    "colab_type": "code",
    "id": "KSfpTf51hSTS"
   },
   "outputs": [],
   "source": [
    "words_0 = {word:word_count  for word, word_count in  zip(cv0.get_feature_names(),count_vec0.toarray().sum(axis=0)) }\n",
    "words_0 = dict(sorted(words_0.items(), key = lambda x: x[1], reverse=True)[:20])\n",
    "words_0 = set([x[0] for x in words_0.items()])\n",
    "\n",
    "words_1 = {word:word_count  for word, word_count in  zip(cv1.get_feature_names(),count_vec1.toarray().sum(axis=0)) }\n",
    "words_1 = dict(sorted(words_1.items(), key = lambda x: x[1], reverse=True)[:100])\n",
    "words_1 = set([x[0] for x in words_1.items()])\n",
    "\n",
    "words_2 = {word:word_count  for word, word_count in  zip(cv2.get_feature_names(),count_vec2.toarray().sum(axis=0)) }\n",
    "words_2 = dict(sorted(words_2.items(), key = lambda x: x[1], reverse=True)[:100])\n",
    "words_2 = set([x[0] for x in words_2.items()])\n",
    "\n",
    "words_3 = {word:word_count  for word, word_count in  zip(cv1.get_feature_names(),count_vec3.toarray().sum(axis=0)) }\n",
    "words_3 = dict(sorted(words_3.items(), key = lambda x: x[1], reverse=True)[:100])\n",
    "words_3 = set([x[0] for x in words_3.items()])\n",
    "\n",
    "words_4 = {word:word_count  for word, word_count in  zip(cv4.get_feature_names(),count_vec4.toarray().sum(axis=0)) }\n",
    "words_4 = dict(sorted(words_4.items(), key = lambda x: x[1], reverse=True)[:1000])\n",
    "words_4 = set([x[0] for x in words_4.items()])\n",
    "\n",
    "\n",
    "words_5 = {word:word_count  for word, word_count in  zip(cv5.get_feature_names(),count_vec5.toarray().sum(axis=0)) }\n",
    "words_5 = dict(sorted(words_5.items(), key = lambda x: x[1], reverse=True)[:100])\n",
    "words_5 = set([x[0] for x in words_5.items()])\n",
    "\n",
    "words_6 = {word:word_count  for word, word_count in  zip(cv6.get_feature_names(),count_vec6.toarray().sum(axis=0)) }\n",
    "words_6 = dict(sorted(words_6.items(), key = lambda x: x[1], reverse=True)[:100])\n",
    "words_6 = set([x[0] for x in words_6.items()])\n",
    "\n",
    "words_7 = {word:word_count  for word, word_count in  zip(cv7.get_feature_names(),count_vec7.toarray().sum(axis=0)) }\n",
    "words_7 = dict(sorted(words_7.items(), key = lambda x: x[1], reverse=True)[:1000])\n",
    "words_7 = set([x[0] for x in words_7.items()])\n",
    "\n",
    "top_words = [words_0, words_1, words_2,words_3,words_4,words_5,words_6,words_7 ]\n",
    "\n",
    "word_features1 = reduce(set.union, top_words) - reduce(set.intersection, top_words)\n",
    "\n",
    "word_features1 = reduce(set.union, [word_features1]) - reduce(set.intersection, [words_0, words_4])\n",
    "\n",
    "# word_features1 = reduce(set.union, [word_features1]) - reduce(set.intersection, [words_0, words_7])\n",
    "\n",
    "#word_features1 = reduce(set.union, [word_features1]) - reduce(set.intersection, [words_0, words_5])\n",
    "#word_features1 = reduce(set.union, top_words) - reduce(set.intersection, [words_4 - words_0])\n",
    "# word_features1 = reduce(set.union, [word_features]) - reduce(set.intersection, [words_0, words_5])\n",
    "# word_features1 = reduce(set.union, top_words) - reduce(set.intersection, [words_0, words_6])\n",
    "\n"
   ]
  },
  {
   "cell_type": "code",
   "execution_count": 0,
   "metadata": {
    "colab": {},
    "colab_type": "code",
    "id": "UqKxkDOshSTU"
   },
   "outputs": [],
   "source": [
    "# from itertools import combinations \n",
    "# for words1, words2 in combinations(top_words, 2):\n",
    "#     word_features1 = reduce(set.union, [word_features]) - reduce(set.intersection, [words1, words2])"
   ]
  },
  {
   "cell_type": "code",
   "execution_count": 0,
   "metadata": {
    "colab": {},
    "colab_type": "code",
    "id": "baTnkX4uhSTZ"
   },
   "outputs": [],
   "source": [
    "# word_features.intersection(words_6)"
   ]
  },
  {
   "cell_type": "code",
   "execution_count": 0,
   "metadata": {
    "colab": {},
    "colab_type": "code",
    "id": "hj5EW01IhSTh"
   },
   "outputs": [],
   "source": [
    "# feature_index = [cv.get_feature_names().index(word) for word in list(word_features1)]\n",
    "# features = np.array(count_vec.toarray()[:, list(feature_index)])"
   ]
  },
  {
   "cell_type": "code",
   "execution_count": 0,
   "metadata": {
    "colab": {},
    "colab_type": "code",
    "id": "8g8yw5rDhSTk"
   },
   "outputs": [],
   "source": [
    "# model = RandomForestClassifier(n_estimators=200, random_state=0, max_depth=100)\n",
    "# _ = model.fit(features, list(df_train[target].values))"
   ]
  },
  {
   "cell_type": "code",
   "execution_count": 0,
   "metadata": {
    "colab": {},
    "colab_type": "code",
    "id": "QQIvkhHDhSTq"
   },
   "outputs": [],
   "source": [
    "# model2 = SVC()\n",
    "# _ = model2.fit(features, list(df_train[target].values))"
   ]
  },
  {
   "cell_type": "markdown",
   "metadata": {
    "colab_type": "text",
    "id": "RK7gAjwixtTp"
   },
   "source": [
    "### Generate input features for naive bayes classification"
   ]
  },
  {
   "cell_type": "code",
   "execution_count": 0,
   "metadata": {
    "colab": {},
    "colab_type": "code",
    "id": "6LobqqN7hSTu"
   },
   "outputs": [],
   "source": [
    "def extract_features(corpus, features, labels = None):\n",
    "        ###\n",
    "        if not(labels is None):\n",
    "            corpus = [tokenizer(sentence) for sentence, label in zip(corpus, labels)]\n",
    "            feature_set = [({token: token in tokens for token in features}, label) for tokens, label in zip(corpus, labels)]\n",
    "        else:\n",
    "            corpus = [tokenizer(sentence) for sentence in corpus]\n",
    "            feature_set = [{token: token in tokens for token in features} for tokens in corpus]\n",
    "        return feature_set"
   ]
  },
  {
   "cell_type": "markdown",
   "metadata": {
    "colab_type": "text",
    "id": "qvkXLI5ax7vv"
   },
   "source": [
    "**Extract features and train the classifier**"
   ]
  },
  {
   "cell_type": "code",
   "execution_count": 0,
   "metadata": {
    "colab": {},
    "colab_type": "code",
    "id": "6E4182aHhSTy"
   },
   "outputs": [],
   "source": [
    "#words_freq =dict(sorted(words_freq.items(), key = lambda x: x[1], reverse=True)[:1000])\n",
    "#word_features = [x[0] for x in words_freq.items()]\n",
    "feature_set = extract_features(df_train[\"Subjects\"], word_features1, labels = df_train[target])\n",
    "classifier = NaiveBayesClassifier.train(feature_set)"
   ]
  },
  {
   "cell_type": "code",
   "execution_count": 54,
   "metadata": {
    "colab": {
     "base_uri": "https://localhost:8080/",
     "height": 289
    },
    "colab_type": "code",
    "id": "s4P3DrDzhST1",
    "outputId": "945479ed-f089-4e86-8f6b-38c16d4a460c"
   },
   "outputs": [
    {
     "name": "stdout",
     "output_type": "stream",
     "text": [
      "  |    0    1    2    3    4    5    6    7 |\n",
      "--+-----------------------------------------+\n",
      "0 |<4088>   7    .    3  177   54    7    6 |\n",
      "1 |   18   <.>   .    .    .    .    .    1 |\n",
      "2 |   64    .   <3>   .    1    1    .    . |\n",
      "3 |    2    .    .   <3>   .   27    1    . |\n",
      "4 |  156    1    .    .  <40>   3    4    . |\n",
      "5 |   95    .    1    4   21 <706>   3    . |\n",
      "6 |  160    .    1    3    9    9 <296>  72 |\n",
      "7 |   38    1    1    1    2   15  116 <110>|\n",
      "--+-----------------------------------------+\n",
      "(row = reference; col = test)\n",
      "\n",
      "f1_micro:  0.8286210709208656\n",
      "f1_macro:  0.4031846360043215\n",
      "f1_weighted:  0.8188634606527981\n"
     ]
    }
   ],
   "source": [
    "df_test1= df_test.dropna(subset=[\"Subjects\"])\n",
    "df_test[\"prediction\"] = 0\n",
    "test_features = extract_features(df_test1[\"Subjects\"].values, word_features1)\n",
    "predictions = classifier.classify_many(test_features)\n",
    "df_test.loc[df_test1.index, 'prediction'] = predictions\n",
    "print(ConfusionMatrix(list(df_test[target]), list(df_test[\"prediction\"])))\n",
    "print(\"f1_micro: \",f1_score(df_test[target].values, df_test[\"prediction\"].values, average='micro'))\n",
    "print(\"f1_macro: \", f1_score(df_test[target].values, df_test[\"prediction\"].values, average='macro'))\n",
    "print(\"f1_weighted: \", f1_score(df_test[target].values, df_test[\"prediction\"].values, average='weighted'))"
   ]
  },
  {
   "cell_type": "markdown",
   "metadata": {
    "colab_type": "text",
    "id": "07Yf8aTUyOg8"
   },
   "source": [
    "Summary.\n",
    "- Naive bayes classifier performed slighly better on classifying categories with lower samples when compared to random forest and SVM.\n",
    "- The Naive bayes classifier can be further tuned by varying the number the words for each class ."
   ]
  },
  {
   "cell_type": "code",
   "execution_count": 0,
   "metadata": {
    "colab": {},
    "colab_type": "code",
    "id": "keYMi0yHhSUQ"
   },
   "outputs": [],
   "source": [
    "# df2 = pd.read_csv(test_path)\n",
    "# df2_new= df2.dropna(subset=[\"Subjects\"])\n",
    "# df2[\"pred\"] = 0\n",
    "# count_vec_test = cv.transform(df2_new[\"Subjects\"].values)\n",
    "# test_features = np.array(count_vec_test.toarray()[:, list(feature_index)])\n",
    "# predictions = model.predict(test_features)\n",
    "# df2.loc[df2_new.index, 'pred'] = predictions"
   ]
  },
  {
   "cell_type": "code",
   "execution_count": 0,
   "metadata": {
    "colab": {},
    "colab_type": "code",
    "id": "fK9QK0DhhSUS"
   },
   "outputs": [],
   "source": [
    "# ser = {\"ID\":df2[\"ID\"].values, 'MaterialType': df2[\"pred\"].values}\n",
    "# df_pred = pd.DataFrame(ser)\n",
    "# df_pred[\"MaterialType\"] = df_pred[\"MaterialType\"].map(id_to_mat)\n",
    "# df_pred.MaterialType.value_counts()\n",
    "# df_pred.to_csv('submission.csv', index = False)"
   ]
  },
  {
   "cell_type": "code",
   "execution_count": 0,
   "metadata": {
    "colab": {},
    "colab_type": "code",
    "id": "NVCoEe2KhSUW"
   },
   "outputs": [],
   "source": []
  }
 ],
 "metadata": {
  "accelerator": "GPU",
  "colab": {
   "collapsed_sections": [],
   "name": "Untitled-Copy2.ipynb",
   "provenance": [],
   "version": "0.3.2"
  },
  "kernelspec": {
   "display_name": "Python 3",
   "language": "python",
   "name": "python3"
  },
  "language_info": {
   "codemirror_mode": {
    "name": "ipython",
    "version": 3
   },
   "file_extension": ".py",
   "mimetype": "text/x-python",
   "name": "python",
   "nbconvert_exporter": "python",
   "pygments_lexer": "ipython3",
   "version": "3.8.3"
  }
 },
 "nbformat": 4,
 "nbformat_minor": 1
}
